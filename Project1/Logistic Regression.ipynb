{
 "cells": [
  {
   "cell_type": "code",
   "execution_count": 21,
   "metadata": {},
   "outputs": [],
   "source": [
    "import numpy as np\n",
    "import math"
   ]
  },
  {
   "cell_type": "code",
   "execution_count": 24,
   "metadata": {},
   "outputs": [],
   "source": [
    "\n",
    "class logisticRegression:\n",
    "\n",
    "    def __init__(instance,m):\n",
    "        # weight: (m+1) x 1 vector (including bias).\n",
    "        # m: num of features\n",
    "        instance.weight = np.zeros(m+1)       \n",
    "\n",
    "    def fit(X, y, instance, step, prob):\n",
    "  \n",
    "        # X: input data, \n",
    "        # y: output data,\n",
    "        # instance: instance as objects\n",
    "        \n",
    "        # n: num of training examples \n",
    "        n = X.shape[0] \n",
    "        # m: num of features\n",
    "        m = X.shape[1] + 1\n",
    "        \n",
    "        #insert 1s to the first column, in order to get the bias term\n",
    "        for i in range(n):\n",
    "            X[i].insert(0, 1)\n",
    "      \n",
    "        # w is the weight \n",
    "        w = instance.weight\n",
    "        ak = a\n",
    "        count = 0 \n",
    "        dw = prob + 1\n",
    "\n",
    "        # minimizing the cross-entropy loss\n",
    "        while (abs(np.max(dw))> prob):\n",
    "            w_i = w\n",
    "            deri = np.zeros((m))\n",
    "            for i in range(n):\n",
    "                deri += (y[i] - instance.logistic(w,X[i,:]))*X[i,:]\n",
    "            w = w + ak * der\n",
    "            dw = w - w_i\n",
    "            count += 1 \n",
    "            ak = a/count\n",
    "        instance.weight = w\n",
    "        return count\n",
    "      \n",
    "    def predict(instance,X):\n",
    "        for i in range(n):\n",
    "            X[i].insert(0, 1)\n",
    "        log_odds = np.dot(instance.weight.T,X)\n",
    "        y_label = (log_odds > 0)\n",
    "        return y_label\n",
    "      \n",
    "    def logistic(instance, weight, Xi):\n",
    "        a = np.dot(weight.T, Xi)\n",
    "        return 1/(1 + np.exp(-a))"
   ]
  },
  {
   "cell_type": "code",
   "execution_count": null,
   "metadata": {},
   "outputs": [],
   "source": []
  }
 ],
 "metadata": {
  "kernelspec": {
   "display_name": "Python 3",
   "language": "python",
   "name": "python3"
  },
  "language_info": {
   "codemirror_mode": {
    "name": "ipython",
    "version": 3
   },
   "file_extension": ".py",
   "mimetype": "text/x-python",
   "name": "python",
   "nbconvert_exporter": "python",
   "pygments_lexer": "ipython3",
   "version": "3.7.4"
  }
 },
 "nbformat": 4,
 "nbformat_minor": 2
}
