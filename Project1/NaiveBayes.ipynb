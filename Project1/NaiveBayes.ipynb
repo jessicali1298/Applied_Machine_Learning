{
 "cells": [
  {
   "cell_type": "code",
   "execution_count": 2,
   "metadata": {},
   "outputs": [
    {
     "name": "stdout",
     "output_type": "stream",
     "text": [
      "test\n"
     ]
    }
   ],
   "source": [
    "print(\"test\")"
   ]
  },
  {
   "cell_type": "code",
   "execution_count": 3,
   "metadata": {},
   "outputs": [
    {
     "name": "stdout",
     "output_type": "stream",
     "text": [
      "Average of the list = 35.75\n"
     ]
    }
   ],
   "source": [
    "def Average(lst): \n",
    "    return sum(lst) / len(lst) \n",
    "  \n",
    "# Driver Code \n",
    "lst = [15, 9, 55, 41, 35, 20, 62, 49] \n",
    "average = Average(lst) \n",
    "  \n",
    "# Printing average of the list \n",
    "print(\"Average of the list =\", round(average, 2))"
   ]
  },
  {
   "cell_type": "code",
   "execution_count": 4,
   "metadata": {},
   "outputs": [
    {
     "name": "stdout",
     "output_type": "stream",
     "text": [
      "{0.0: [(2.7420144012, 0.8287479077141687, 5), (3.0054686692, 0.9904256942385166, 5)], 1.0: [(7.6146523718, 1.1041096849046812, 5), (2.9914679790000003, 1.3006698840042743, 5)]}\n",
      "total number of rows in the data set 10\n",
      "{0.0: -2.8742640225015643, 1.0: -10.329799810012979}\n"
     ]
    }
   ],
   "source": [
    "\n",
    "from math import exp,log,pi,sqrt\n",
    "import numpy as np\n",
    "\n",
    "def mean(column):\n",
    "\treturn np.mean(column)\n",
    "\n",
    "def stdev(column):\n",
    "\treturn np.std(column)\n",
    "\n",
    "def getNeededValuesPerClass(dataset):\n",
    "\tsummary = [(mean(column), stdev(column), len(column)) for column in zip(*dataset)] #get all the rows together no matter how many columns\n",
    "\tdel(summary[-1]) #the lable is no longer needed\n",
    "\treturn summary\n",
    "\n",
    "def breakDown(dataset):\n",
    "\trowsPerClass = dict()\n",
    "\tfor i in range(len(dataset)):\n",
    "\t\teachRow = dataset[i]\n",
    "\t\tlable = eachRow[-1] #the last entry is always the lable\n",
    "\t\tif (lable not in rowsPerClass):\n",
    "\t\t\trowsPerClass[lable] = list() #create the list for each category to hold the values\n",
    "\t\trowsPerClass[lable].append(eachRow)\n",
    "\tVariablesPerFeature = dict() #hold the mean and std per feature where each key is the class\n",
    "\tfor classValue, rows in rowsPerClass.items():\n",
    "\t\tVariablesPerFeature[classValue] = getNeededValuesPerClass(rows) #do all the calcuation per category\n",
    "\treturn VariablesPerFeature\n",
    "\n",
    "#gaussian assumption\n",
    "def calculateProbability(x, mean, stdev):\n",
    "\texponent = exp(-((x-mean)**2 / (2 * stdev**2 )))\n",
    "\treturn (1 / (sqrt(2 * pi) * stdev)) * exponent\n",
    "\n",
    "# Calculate the probabilities of predicting each class for a given row\n",
    "def calculateClassProbabilities(summaries, row, totalRowsInDataset):\n",
    "\tprint(\"total number of rows in the data set\", totalRowsInDataset) \n",
    "\tprobabilities = dict()\n",
    "\tfor category, classSummaries in summaries.items():\n",
    "\t\tprobabilities[category] = log(summaries[category][0][-1]/float(totalRowsInDataset)) # this adds the prior (always the first row cause they should be the same for all)\n",
    "\t\tfor i in range(len(classSummaries)):\n",
    "\t\t\tmean, stdev, count = classSummaries[i]\n",
    "\t\t\tprobabilities[category] += log(calculateProbability(row[i], mean, stdev)) # collection per feature per class\n",
    "\treturn probabilities\n",
    "\n",
    "# Test calculating class probabilities\n",
    "dataset = np.array([[3.393533211,2.331273381,0],\n",
    "\t[3.110073483,1.781539638,0],\n",
    "\t[1.343808831,3.368360954,0],\n",
    "\t[3.582294042,4.67917911,0],\n",
    "\t[2.280362439,2.866990263,0],\n",
    "\t[7.423436942,4.696522875,1],\n",
    "\t[5.745051997,3.533989803,1],\n",
    "\t[9.172168622,2.511101045,1],\n",
    "\t[7.792783481,3.424088941,1],\n",
    "\t[7.939820817,0.791637231,1]])\n",
    "summaries = breakDown(dataset)\n",
    "print(summaries)\n",
    "totalRows = dataset.shape[0]\n",
    "prediction = calculateClassProbabilities(summaries, dataset[0], totalRows)\n",
    "print(prediction)"
   ]
  },
  {
   "cell_type": "code",
   "execution_count": null,
   "metadata": {},
   "outputs": [],
   "source": []
  },
  {
   "cell_type": "code",
   "execution_count": null,
   "metadata": {},
   "outputs": [],
   "source": []
  }
 ],
 "metadata": {
  "kernelspec": {
   "display_name": "Python 3",
   "language": "python",
   "name": "python3"
  },
  "language_info": {
   "codemirror_mode": {
    "name": "ipython",
    "version": 3
   },
   "file_extension": ".py",
   "mimetype": "text/x-python",
   "name": "python",
   "nbconvert_exporter": "python",
   "pygments_lexer": "ipython3",
   "version": "3.7.4"
  }
 },
 "nbformat": 4,
 "nbformat_minor": 2
}
