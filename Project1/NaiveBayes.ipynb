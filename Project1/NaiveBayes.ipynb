{
 "cells": [
  {
   "cell_type": "code",
   "execution_count": 2,
   "metadata": {},
   "outputs": [
    {
     "name": "stdout",
     "output_type": "stream",
     "text": [
      "test\n"
     ]
    }
   ],
   "source": [
    "print(\"test\")"
   ]
  },
  {
   "cell_type": "code",
   "execution_count": 3,
   "metadata": {},
   "outputs": [
    {
     "name": "stdout",
     "output_type": "stream",
     "text": [
      "Average of the list = 35.75\n"
     ]
    }
   ],
   "source": [
    "def Average(lst): \n",
    "    return sum(lst) / len(lst) \n",
    "  \n",
    "# Driver Code \n",
    "lst = [15, 9, 55, 41, 35, 20, 62, 49] \n",
    "average = Average(lst) \n",
    "  \n",
    "# Printing average of the list \n",
    "print(\"Average of the list =\", round(average, 2))"
   ]
  },
  {
   "cell_type": "code",
   "execution_count": 47,
   "metadata": {},
   "outputs": [
    {
     "name": "stdout",
     "output_type": "stream",
     "text": [
      "{0: [(2.7420144012, 0.9265683289298018, 5), (3.0054686692, 1.1073295894898725, 5)], 1: [(7.6146523718, 1.2344321550313704, 5), (2.9914679790000003, 1.4541931384601618, 5)]}\n",
      "total rows 10\n",
      "prob param 3.393533211 2.7420144012 0.9265683289298018\n",
      "prob param 2.331273381 3.0054686692 1.1073295894898725\n",
      "prob param 3.393533211 7.6146523718 1.2344321550313704\n",
      "prob param 2.331273381 2.9914679790000003 1.4541931384601618\n",
      "{0: -2.9892676794677406, 1: -9.065571993183418}\n"
     ]
    }
   ],
   "source": [
    "\n",
    "from math import sqrt\n",
    "from math import pi\n",
    "from math import exp\n",
    "\n",
    "# Split the dataset by class values, returns a dictionary\n",
    "def separate_by_class(dataset):\n",
    "\tseparated = dict()\n",
    "\tfor i in range(len(dataset)):\n",
    "\t\tvector = dataset[i]\n",
    "\t\tclass_value = vector[-1]\n",
    "\t\tif (class_value not in separated):\n",
    "\t\t\tseparated[class_value] = list()\n",
    "\t\tseparated[class_value].append(vector)\n",
    "\treturn separated\n",
    "\n",
    "def mean(column):\n",
    "\treturn sum(column)/float(len(column))\n",
    "\n",
    "def stdev(column):\n",
    "\tavg = mean(column)\n",
    "\tvariance = sum([(x-avg)**2 for x in column]) / float(len(column)-1)\n",
    "\treturn sqrt(variance)\n",
    "\n",
    "def summarize_dataset(dataset):\n",
    "\tsummary = [(mean(column), stdev(column), len(column)) for column in zip(*dataset)]\n",
    "\tdel(summary[-1])\n",
    "\treturn summary\n",
    "\n",
    "def summarize_by_class(dataset):\n",
    "\tseparated = separate_by_class(dataset)\n",
    "\tsummaryObj = dict()\n",
    "\tfor class_value, rows in separated.items():\n",
    "\t\tsummaryObj[class_value] = summarize_dataset(rows) #do all the calcuation per category\n",
    "\treturn summaryObj\n",
    "\n",
    "#Gaussian probability distribution\n",
    "def calculate_probability(x, mean, stdev):\n",
    "\texponent = exp(-((x-mean)**2 / (2 * stdev**2 )))\n",
    "\treturn (1 / (sqrt(2 * pi) * stdev)) * exponent\n",
    "\n",
    "# Calculate the probabilities of predicting each class for a given row\n",
    "def calculate_class_probabilities(summaries, row):\n",
    "\ttotal_rows = sum([summaries[label][0][2] for label in summaries])\n",
    "\tprint(\"total rows\",total_rows)\n",
    "\tprobabilities = dict()\n",
    "\tfor class_value, class_summaries in summaries.items():\n",
    "\t\t#print(\"summaries\", summaries[class_value][0][-1],class_value)\n",
    "\t\tprobabilities[class_value] = log(summaries[class_value][0][-1]/float(total_rows)) # this adds the prior (always the first row cause they should be the same for all)\n",
    "\t\tfor i in range(len(class_summaries)):\n",
    "\t\t\tmean, stdev, count = class_summaries[i]\n",
    "\t\t\t#print(\"class summ\",class_summaries[i], mean, stdev)\n",
    "\t\t\tprint(\"prob param\",row[i], mean, stdev) #row i is each feature\n",
    "\t\t\tprobabilities[class_value] += log(calculate_probability(row[i], mean, stdev)) # collection\n",
    "\treturn probabilities\n",
    "\n",
    "# Test calculating class probabilities\n",
    "dataset = [[3.393533211,2.331273381,0],\n",
    "\t[3.110073483,1.781539638,0],\n",
    "\t[1.343808831,3.368360954,0],\n",
    "\t[3.582294042,4.67917911,0],\n",
    "\t[2.280362439,2.866990263,0],\n",
    "\t[7.423436942,4.696522875,1],\n",
    "\t[5.745051997,3.533989803,1],\n",
    "\t[9.172168622,2.511101045,1],\n",
    "\t[7.792783481,3.424088941,1],\n",
    "\t[7.939820817,0.791637231,1]]\n",
    "summaries = summarize_by_class(dataset)\n",
    "print(summaries)\n",
    "prediction = calculate_class_probabilities(summaries, dataset[0])\n",
    "print(prediction)"
   ]
  },
  {
   "cell_type": "code",
   "execution_count": null,
   "metadata": {},
   "outputs": [],
   "source": []
  }
 ],
 "metadata": {
  "kernelspec": {
   "display_name": "Python 3",
   "language": "python",
   "name": "python3"
  },
  "language_info": {
   "codemirror_mode": {
    "name": "ipython",
    "version": 3
   },
   "file_extension": ".py",
   "mimetype": "text/x-python",
   "name": "python",
   "nbconvert_exporter": "python",
   "pygments_lexer": "ipython3",
   "version": "3.7.4"
  }
 },
 "nbformat": 4,
 "nbformat_minor": 2
}
