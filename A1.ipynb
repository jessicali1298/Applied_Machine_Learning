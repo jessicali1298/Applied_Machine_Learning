{
  "nbformat": 4,
  "nbformat_minor": 0,
  "metadata": {
    "colab": {
      "name": "A1.ipynb",
      "provenance": [],
      "collapsed_sections": [],
      "include_colab_link": true
    },
    "kernelspec": {
      "name": "python3",
      "display_name": "Python 3"
    }
  },
  "cells": [
    {
      "cell_type": "markdown",
      "metadata": {
        "id": "view-in-github",
        "colab_type": "text"
      },
      "source": [
        "<a href=\"https://colab.research.google.com/github/jessicali1298/Applied_Machine_Learning/blob/master/A1.ipynb\" target=\"_parent\"><img src=\"https://colab.research.google.com/assets/colab-badge.svg\" alt=\"Open In Colab\"/></a>"
      ]
    },
    {
      "cell_type": "code",
      "metadata": {
        "id": "YrXxJvLgFgsW",
        "colab_type": "code",
        "outputId": "4755bf4f-bc58-4249-b9f5-344db4b8efd7",
        "colab": {
          "base_uri": "https://localhost:8080/",
          "height": 34
        }
      },
      "source": [
        "print('test')"
      ],
      "execution_count": 1,
      "outputs": [
        {
          "output_type": "stream",
          "text": [
            "test\n"
          ],
          "name": "stdout"
        }
      ]
    },
    {
      "cell_type": "markdown",
      "metadata": {
        "id": "nZ8UbMS4GaFA",
        "colab_type": "text"
      },
      "source": [
        "##Sample Code\n",
        "**Testing Bold Font**   \n",
        "*testing italisize*  \n",
        "* point 1  \n",
        "* point 2  \n",
        "\n",
        "**Sample Python Code**  \n",
        "```python\n",
        "import numpy as np\n",
        "arr = np.arange(10)\n",
        "```\n",
        "\n",
        "**In-Line Code**  \n",
        "This is in-line code ```import numpy as np```  \n",
        "\n"
      ]
    }
  ]
}